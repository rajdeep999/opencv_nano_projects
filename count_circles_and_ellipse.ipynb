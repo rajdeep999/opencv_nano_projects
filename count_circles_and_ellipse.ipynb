{
 "cells": [
  {
   "cell_type": "code",
   "execution_count": 5,
   "metadata": {},
   "outputs": [],
   "source": [
    "import numpy as np\n",
    "import cv2\n",
    "\n",
    "#loading an image\n",
    "image = cv2.imread(\"images/blobs.jpg\",0)\n",
    "cv2.imshow(\"image\",image)\n",
    "cv2.waitKey(0)\n",
    "\n",
    "#initializing the detector with default parameter\n",
    "detector = cv2.SimpleBlobDetector_create()\n",
    "#detecting the blobs\n",
    "keypoint = detector.detect(image)\n",
    "#drawing the circle around the blob\n",
    "blob = cv2.drawKeypoints(image,keypoint,np.array([]),(0,0,255),cv2.DRAW_MATCHES_FLAGS_DRAW_RICH_KEYPOINTS)\n",
    "text = \"Number of blobs: \"+str(len(keypoint))\n",
    "cv2.putText(blob,text,(20,550),cv2.FONT_HERSHEY_SIMPLEX,1,(100,0,255),2)\n",
    "\n",
    "cv2.imshow(\"ellipse and circluar blob\",blob)\n",
    "cv2.waitKey(0)\n",
    "\n",
    "#initializing the parameter to detect circular blobs\n",
    "params = cv2.SimpleBlobDetector_Params()\n",
    "\n",
    "params.filterByArea = True\n",
    "params.minArea = 100\n",
    "\n",
    "params.filterByCircularity = True\n",
    "params.minCircularity = 0.9\n",
    "\n",
    "params.filterByConvexity = False\n",
    "params.minConvexity = 0.2\n",
    "\n",
    "params.filterByInertia = True\n",
    "params.minInertiaRatio = 0.01\n",
    "\n",
    "#initalizing the detector with above parameter\n",
    "detector = cv2.SimpleBlobDetector_create(params)\n",
    "#detecting the blob\n",
    "keypoint = detector.detect(image)\n",
    "\n",
    "blob = cv2.drawKeypoints(image,keypoint,np.array([]),(0,255,0),cv2.DRAW_MATCHES_FLAGS_DRAW_RICH_KEYPOINTS)\n",
    "text = \"Number of circular blob: \" + str(len(keypoint))\n",
    "cv2.putText(blob,text,(20,550),cv2.FONT_HERSHEY_SIMPLEX,1,(0,100,255),2)\n",
    "\n",
    "#displaying the image\n",
    "cv2.imshow(\"Circular blob only\",blob)\n",
    "cv2.waitKey(0)\n",
    "\n",
    "\n",
    "cv2.destroyAllWindows()"
   ]
  }
 ],
 "metadata": {
  "kernelspec": {
   "display_name": "Python 3",
   "language": "python",
   "name": "python3"
  },
  "language_info": {
   "codemirror_mode": {
    "name": "ipython",
    "version": 3
   },
   "file_extension": ".py",
   "mimetype": "text/x-python",
   "name": "python",
   "nbconvert_exporter": "python",
   "pygments_lexer": "ipython3",
   "version": "3.7.1"
  }
 },
 "nbformat": 4,
 "nbformat_minor": 2
}
