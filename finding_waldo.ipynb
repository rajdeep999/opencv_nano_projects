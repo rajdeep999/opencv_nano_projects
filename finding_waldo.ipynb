{
 "cells": [
  {
   "cell_type": "code",
   "execution_count": 11,
   "metadata": {},
   "outputs": [],
   "source": [
    "import numpy as np\n",
    "import cv2\n",
    "\n",
    "#loading the image\n",
    "image = cv2.imread(\"images/WaldoBeach.jpg\")\n",
    "gray = cv2.cvtColor(image,cv2.COLOR_BGR2GRAY)\n",
    "cv2.imshow(\"Waldo\",image)\n",
    "cv2.waitKey(0)\n",
    "\n",
    "#loading the template image\n",
    "template = cv2.imread(\"images/waldo.jpg\",0)\n",
    "\n",
    "#template matching\n",
    "result = cv2.matchTemplate(gray,template,cv2.TM_CCOEFF)\n",
    "min_val,max_val,min_loc,max_loc = cv2.minMaxLoc(result)\n",
    "\n",
    "#creating the bounding box\n",
    "top_left = max_loc\n",
    "bottom_right = (top_left[0]+50,top_left[1]+50)\n",
    "cv2.rectangle(image,top_left,bottom_right,(0,0,255),5)\n",
    "\n",
    "#displaying the image\n",
    "cv2.imshow(\"Where is waldo?\",image)\n",
    "cv2.waitKey(0)\n",
    "\n",
    "cv2.destroyAllWindows()"
   ]
  }
 ],
 "metadata": {
  "kernelspec": {
   "display_name": "Python 3",
   "language": "python",
   "name": "python3"
  },
  "language_info": {
   "codemirror_mode": {
    "name": "ipython",
    "version": 3
   },
   "file_extension": ".py",
   "mimetype": "text/x-python",
   "name": "python",
   "nbconvert_exporter": "python",
   "pygments_lexer": "ipython3",
   "version": "3.7.1"
  }
 },
 "nbformat": 4,
 "nbformat_minor": 2
}
